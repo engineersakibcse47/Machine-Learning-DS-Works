{
 "cells": [
  {
   "cell_type": "code",
   "execution_count": 1,
   "id": "6255fc29",
   "metadata": {},
   "outputs": [],
   "source": [
    "import numpy as nm  \n",
    "import matplotlib.pyplot as mtp  \n",
    "import pandas as pd  \n",
    "  \n",
    "#importing datasets  \n",
    "data_set= pd.read_csv(r'C:\\Users\\shhimel\\Desktop\\sp2.csv')\n",
    "  \n",
    "#Extracting Independent and dependent Variable  \n",
    "x= data_set.iloc[:, 1:2].values  \n",
    "y= data_set.iloc[:, 2].values  "
   ]
  },
  {
   "cell_type": "code",
   "execution_count": 19,
   "id": "e8ce2643",
   "metadata": {},
   "outputs": [
    {
     "data": {
      "text/html": [
       "<div>\n",
       "<style scoped>\n",
       "    .dataframe tbody tr th:only-of-type {\n",
       "        vertical-align: middle;\n",
       "    }\n",
       "\n",
       "    .dataframe tbody tr th {\n",
       "        vertical-align: top;\n",
       "    }\n",
       "\n",
       "    .dataframe thead th {\n",
       "        text-align: right;\n",
       "    }\n",
       "</style>\n",
       "<table border=\"1\" class=\"dataframe\">\n",
       "  <thead>\n",
       "    <tr style=\"text-align: right;\">\n",
       "      <th></th>\n",
       "      <th>Position</th>\n",
       "      <th>Level</th>\n",
       "      <th>Salary</th>\n",
       "    </tr>\n",
       "  </thead>\n",
       "  <tbody>\n",
       "    <tr>\n",
       "      <th>0</th>\n",
       "      <td>BA</td>\n",
       "      <td>1</td>\n",
       "      <td>450000</td>\n",
       "    </tr>\n",
       "    <tr>\n",
       "      <th>1</th>\n",
       "      <td>JC</td>\n",
       "      <td>2</td>\n",
       "      <td>50000</td>\n",
       "    </tr>\n",
       "    <tr>\n",
       "      <th>2</th>\n",
       "      <td>SC</td>\n",
       "      <td>3</td>\n",
       "      <td>60000</td>\n",
       "    </tr>\n",
       "    <tr>\n",
       "      <th>3</th>\n",
       "      <td>M</td>\n",
       "      <td>4</td>\n",
       "      <td>80000</td>\n",
       "    </tr>\n",
       "    <tr>\n",
       "      <th>4</th>\n",
       "      <td>CM</td>\n",
       "      <td>5</td>\n",
       "      <td>110000</td>\n",
       "    </tr>\n",
       "    <tr>\n",
       "      <th>5</th>\n",
       "      <td>RM</td>\n",
       "      <td>6</td>\n",
       "      <td>150000</td>\n",
       "    </tr>\n",
       "    <tr>\n",
       "      <th>6</th>\n",
       "      <td>P</td>\n",
       "      <td>7</td>\n",
       "      <td>200000</td>\n",
       "    </tr>\n",
       "    <tr>\n",
       "      <th>7</th>\n",
       "      <td>SP</td>\n",
       "      <td>8</td>\n",
       "      <td>300000</td>\n",
       "    </tr>\n",
       "    <tr>\n",
       "      <th>8</th>\n",
       "      <td>CL</td>\n",
       "      <td>9</td>\n",
       "      <td>500000</td>\n",
       "    </tr>\n",
       "    <tr>\n",
       "      <th>9</th>\n",
       "      <td>CEO</td>\n",
       "      <td>10</td>\n",
       "      <td>1000000</td>\n",
       "    </tr>\n",
       "  </tbody>\n",
       "</table>\n",
       "</div>"
      ],
      "text/plain": [
       "  Position  Level   Salary\n",
       "0       BA      1   450000\n",
       "1       JC      2    50000\n",
       "2       SC      3    60000\n",
       "3        M      4    80000\n",
       "4       CM      5   110000\n",
       "5       RM      6   150000\n",
       "6        P      7   200000\n",
       "7       SP      8   300000\n",
       "8       CL      9   500000\n",
       "9      CEO     10  1000000"
      ]
     },
     "execution_count": 19,
     "metadata": {},
     "output_type": "execute_result"
    }
   ],
   "source": [
    "data_set.head(10)"
   ]
  },
  {
   "cell_type": "code",
   "execution_count": 2,
   "id": "e00dfc9d",
   "metadata": {},
   "outputs": [
    {
     "data": {
      "text/plain": [
       "array([[ 1],\n",
       "       [ 2],\n",
       "       [ 3],\n",
       "       [ 4],\n",
       "       [ 5],\n",
       "       [ 6],\n",
       "       [ 7],\n",
       "       [ 8],\n",
       "       [ 9],\n",
       "       [10]], dtype=int64)"
      ]
     },
     "execution_count": 2,
     "metadata": {},
     "output_type": "execute_result"
    }
   ],
   "source": [
    "x"
   ]
  },
  {
   "cell_type": "code",
   "execution_count": 3,
   "id": "63e03db9",
   "metadata": {},
   "outputs": [
    {
     "data": {
      "text/plain": [
       "array([ 450000,   50000,   60000,   80000,  110000,  150000,  200000,\n",
       "        300000,  500000, 1000000], dtype=int64)"
      ]
     },
     "execution_count": 3,
     "metadata": {},
     "output_type": "execute_result"
    }
   ],
   "source": [
    "y"
   ]
  },
  {
   "cell_type": "code",
   "execution_count": 4,
   "id": "30da3ddb",
   "metadata": {},
   "outputs": [
    {
     "data": {
      "text/plain": [
       "LinearRegression()"
      ]
     },
     "execution_count": 4,
     "metadata": {},
     "output_type": "execute_result"
    }
   ],
   "source": [
    "#Fitting the Linear Regression to the dataset  \n",
    "from sklearn.linear_model import LinearRegression  \n",
    "lin_regs= LinearRegression()  \n",
    "lin_regs.fit(x,y)  "
   ]
  },
  {
   "cell_type": "markdown",
   "id": "a1643cf9",
   "metadata": {},
   "source": [
    "### Building the Polynomial regression model:\n",
    "\n"
   ]
  },
  {
   "cell_type": "code",
   "execution_count": 8,
   "id": "ba48b696",
   "metadata": {},
   "outputs": [
    {
     "data": {
      "text/plain": [
       "LinearRegression()"
      ]
     },
     "execution_count": 8,
     "metadata": {},
     "output_type": "execute_result"
    }
   ],
   "source": [
    " #Fitting the Polynomial regression to the dataset  \n",
    "from sklearn.preprocessing import PolynomialFeatures  \n",
    "poly_regs= PolynomialFeatures(degree= 4)  \n",
    "x_poly= poly_regs.fit_transform(x)  \n",
    "lin_reg_2 =LinearRegression()  \n",
    "lin_reg_2.fit(x_poly, y)"
   ]
  },
  {
   "cell_type": "markdown",
   "id": "7a5a16d5",
   "metadata": {},
   "source": [
    "**In the above lines of code, we have used poly_regs.fit_transform(x), because first we are converting our feature matrix into polynomial feature matrix, and then fitting it to the Polynomial regression model. The parameter value(degree= 2) depends on our choice. We can choose it according to our Polynomial features.**"
   ]
  },
  {
   "cell_type": "code",
   "execution_count": 6,
   "id": "303790b6",
   "metadata": {},
   "outputs": [
    {
     "data": {
      "image/png": "[encoded data removed]",
      "text/plain": [
       "<Figure size 432x288 with 1 Axes>"
      ]
     },
     "metadata": {
      "needs_background": "light"
     },
     "output_type": "display_data"
    }
   ],
   "source": [
    "#Visulaizing the result for Linear Regression model  \n",
    "mtp.scatter(x,y,color=\"blue\")  \n",
    "mtp.plot(x,lin_regs.predict(x), color=\"red\")  \n",
    "mtp.title(\"Bluff detection model(Linear Regression)\")  \n",
    "mtp.xlabel(\"Position Levels\")  \n",
    "mtp.ylabel(\"Salary\")  \n",
    "mtp.show()  "
   ]
  },
  {
   "cell_type": "markdown",
   "id": "21e71645",
   "metadata": {},
   "source": [
    "### Visualizing the result for Polynomial Regression\n",
    "\n"
   ]
  },
  {
   "cell_type": "code",
   "execution_count": 9,
   "id": "f0fb9573",
   "metadata": {},
   "outputs": [
    {
     "data": {
      "image/png": "[encoded data removed]",
      "text/plain": [
       "<Figure size 432x288 with 1 Axes>"
      ]
     },
     "metadata": {
      "needs_background": "light"
     },
     "output_type": "display_data"
    }
   ],
   "source": [
    "#Visulaizing the result for Polynomial Regression  \n",
    "mtp.scatter(x,y,color=\"blue\")  \n",
    "mtp.plot(x, lin_reg_2.predict(poly_regs.fit_transform(x)), color=\"red\")  \n",
    "mtp.title(\"Bluff detection model(Polynomial Regression)\")  \n",
    "mtp.xlabel(\"Position Levels\")  \n",
    "mtp.ylabel(\"Salary\")  \n",
    "mtp.show()  "
   ]
  },
  {
   "cell_type": "code",
   "execution_count": 18,
   "id": "f346f06e",
   "metadata": {},
   "outputs": [],
   "source": [
    "###Predicting the final result with the Linear Regression model:\n"
   ]
  },
  {
   "cell_type": "code",
   "execution_count": 15,
   "id": "f8baa37c",
   "metadata": {},
   "outputs": [
    {
     "name": "stdout",
     "output_type": "stream",
     "text": [
      "[348787.87878788]\n"
     ]
    }
   ],
   "source": [
    "lin_pred = lin_regs.predict([[6.5]])  \n",
    "print(lin_pred) "
   ]
  },
  {
   "cell_type": "code",
   "execution_count": 17,
   "id": "d911775f",
   "metadata": {},
   "outputs": [],
   "source": [
    "##Predicting the final result with the Polynomial Regression model:\n"
   ]
  },
  {
   "cell_type": "code",
   "execution_count": 16,
   "id": "5a9291ae",
   "metadata": {},
   "outputs": [
    {
     "name": "stdout",
     "output_type": "stream",
     "text": [
      "[186188.44696979]\n"
     ]
    }
   ],
   "source": [
    "poly_pred = lin_reg_2.predict(poly_regs.fit_transform([[6.5]]))  \n",
    "print(poly_pred) "
   ]
  },
  {
   "cell_type": "code",
   "execution_count": null,
   "id": "da66e4b6",
   "metadata": {},
   "outputs": [],
   "source": []
  }
 ],
 "metadata": {
  "kernelspec": {
   "display_name": "Python 3 (ipykernel)",
   "language": "python",
   "name": "python3"
  },
  "language_info": {
   "codemirror_mode": {
    "name": "ipython",
    "version": 3
   },
   "file_extension": ".py",
   "mimetype": "text/x-python",
   "name": "python",
   "nbconvert_exporter": "python",
   "pygments_lexer": "ipython3",
   "version": "3.9.12"
  }
 },
 "nbformat": 4,
 "nbformat_minor": 5
}
